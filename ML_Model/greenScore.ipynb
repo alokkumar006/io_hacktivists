{
 "cells": [
  {
   "cell_type": "code",
   "execution_count": 1,
   "metadata": {},
   "outputs": [
    {
     "name": "stdout",
     "output_type": "stream",
     "text": [
      "The following columns are missing from the data: ['Tempmax', 'Tempmin']\n",
      "Green scores have been generated and saved to 'green_scores.csv'\n"
     ]
    }
   ],
   "source": [
    "import pandas as pd\n",
    "import numpy as np\n",
    "from sklearn.ensemble import RandomForestRegressor\n",
    "from sklearn.preprocessing import StandardScaler\n",
    "from sklearn.model_selection import train_test_split\n",
    "from sklearn.impute import SimpleImputer\n",
    "\n",
    "data = pd.read_csv('C:/Users/kname/Desktop/Data/cleaned-odisha-data.csv')\n",
    "\n",
    "features = ['SO2', 'NO2', 'RSPM/PM10', 'Tempmax', 'Tempmin', 'VeryDenseForest', \n",
    "            'ModDenseForest', 'OpenForest', 'TotalForest', 'PercentForest', \n",
    "            'Scrub', 'AverageSoilMoisture', 'Population', 'WaterSpread', \n",
    "            'MaxDepth', 'StorageCapacity']\n",
    "target = 'PercentForest'  \n",
    "missing_cols = [col for col in features if col not in data.columns]\n",
    "if missing_cols:\n",
    "    print(f\"The following columns are missing from the data: {missing_cols}\")\n",
    "    features = [col for col in features if col in data.columns]\n",
    "\n",
    "X = data[features]\n",
    "y = data[target]\n",
    "\n",
    "imputer = SimpleImputer(strategy='mean')\n",
    "X_imputed = pd.DataFrame(imputer.fit_transform(X), columns=X.columns)\n",
    "\n",
    "scaler = StandardScaler()\n",
    "X_scaled = scaler.fit_transform(X_imputed)\n",
    "\n",
    "X_train, X_test, y_train, y_test = train_test_split(X_scaled, y, test_size=0.2, random_state=42)\n",
    "\n",
    "rf_model = RandomForestRegressor(n_estimators=100, random_state=42)\n",
    "rf_model.fit(X_train, y_train)\n",
    "\n",
    "green_scores = rf_model.predict(X_scaled)\n",
    "\n",
    "green_scores_normalized = (green_scores - np.min(green_scores)) / (np.max(green_scores) - np.min(green_scores))\n",
    "\n",
    "def get_priority(score):\n",
    "    if score < 0.33:\n",
    "        return \"Low Priority\"\n",
    "    elif score < 0.67:\n",
    "        return \"Moderate Priority\"\n",
    "    else:\n",
    "        return \"High Priority\"\n",
    "\n",
    "results = pd.DataFrame({\n",
    "    'District': data['District'],\n",
    "    'Green_Score': green_scores_normalized,\n",
    "    'Priority': [get_priority(score) for score in green_scores_normalized]\n",
    "})\n",
    "\n",
    "results.to_csv('green_scores.csv', index=False)\n",
    "\n",
    "print(\"Green scores have been generated and saved to 'green_scores.csv'\")\n"
   ]
  }
 ],
 "metadata": {
  "kernelspec": {
   "display_name": "tf_gpu",
   "language": "python",
   "name": "python3"
  },
  "language_info": {
   "codemirror_mode": {
    "name": "ipython",
    "version": 3
   },
   "file_extension": ".py",
   "mimetype": "text/x-python",
   "name": "python",
   "nbconvert_exporter": "python",
   "pygments_lexer": "ipython3",
   "version": "3.9.19"
  }
 },
 "nbformat": 4,
 "nbformat_minor": 2
}
